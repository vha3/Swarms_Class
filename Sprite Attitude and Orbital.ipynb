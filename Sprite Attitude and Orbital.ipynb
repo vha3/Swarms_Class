{
 "cells": [
  {
   "cell_type": "markdown",
   "metadata": {},
   "source": [
    "# Sprite Attitude and Orbital Dynamics"
   ]
  },
  {
   "cell_type": "code",
   "execution_count": 18,
   "metadata": {
    "collapsed": false
   },
   "outputs": [],
   "source": [
    "from IPython.display import Latex\n",
    "import matplotlib.pyplot as plt\n",
    "%matplotlib inline\n",
    "import numpy\n",
    "import numpy.linalg\n",
    "from scipy import integrate\n",
    "from mpl_toolkits.mplot3d import Axes3D\n",
    "import random"
   ]
  },
  {
   "cell_type": "markdown",
   "metadata": {},
   "source": [
    "Ultimately, the orbital dynamics model for the Sprites will include first and second-order gravitational terms, solar pressure, and atmospheric drag. Higher-order geopotential terms and third-body perturbations are neglected because they are negligibly small in comparison to the dominant terms and perturbations. For sake of testing, the models for both orbital and attitude dynamics will be built up modularly. For a first iteration, the orbital dynamics will include only the first two terms of the geopotential model, omitting external forces."
   ]
  },
  {
   "cell_type": "markdown",
   "metadata": {},
   "source": [
    "## Orbital Dynamics"
   ]
  },
  {
   "cell_type": "markdown",
   "metadata": {},
   "source": [
    "### Theory"
   ]
  },
  {
   "cell_type": "markdown",
   "metadata": {},
   "source": [
    "The Lagrangian for the spacecraft is formed by subtracting the potential from the kinetic energy:"
   ]
  },
  {
   "cell_type": "markdown",
   "metadata": {},
   "source": [
    "\\begin{align}\n",
    "\\mathcal{L} &= T-V\n",
    "\\end{align}"
   ]
  },
  {
   "cell_type": "markdown",
   "metadata": {},
   "source": [
    "#### Kinetic Energy"
   ]
  },
  {
   "cell_type": "markdown",
   "metadata": {},
   "source": [
    "We will operate in an Earth-Centered Inertial coordinate frame. This places the origin on the center of the Earth, and lets the Earth rotate on top of the static coordinate system. In this coordinate system, the kinetic energy of the spacecraft is given simply by:"
   ]
  },
  {
   "cell_type": "markdown",
   "metadata": {},
   "source": [
    "\\begin{align}\n",
    "T &= \\frac{1}{2}m\\dot{\\underline{r}}^{2}\n",
    "\\end{align}"
   ]
  },
  {
   "cell_type": "markdown",
   "metadata": {},
   "source": [
    "where $\\underline{\\dot{r}}$ is the time derivative of the position of the spacecraft. In an ECI coordinate frame, the position of the spacecraft is given by:"
   ]
  },
  {
   "cell_type": "markdown",
   "metadata": {},
   "source": [
    "\\begin{align}\n",
    "\\underline{r} &= x\\hat{i} + y\\hat{j} + z\\hat{k}\n",
    "\\end{align}"
   ]
  },
  {
   "cell_type": "markdown",
   "metadata": {},
   "source": [
    "Taking the time derivative:"
   ]
  },
  {
   "cell_type": "markdown",
   "metadata": {},
   "source": [
    "\\begin{align}\n",
    "\\underline{\\dot{r}} &= \\dot{x}\\hat{i} + \\dot{y}\\hat{j} + \\dot{z}\\hat{k}\\\\\n",
    "&= \\begin{bmatrix}\n",
    "\\dot{x}\\\\\\dot{y}\\\\\\dot{z}\n",
    "\\end{bmatrix}\n",
    "\\end{align}"
   ]
  },
  {
   "cell_type": "markdown",
   "metadata": {},
   "source": [
    "This gives a kinetic energy expression:"
   ]
  },
  {
   "cell_type": "markdown",
   "metadata": {},
   "source": [
    "\\begin{align}\n",
    "T &= \\frac{1}{2}m\\underline{\\dot{r}}^T\\underline{\\dot{r}}\\\\\n",
    "&= \\frac{1}{2}m\\left[\\dot{x}^2 + \\dot{y}^2 + \\dot{z}^2\\right]\n",
    "\\end{align}"
   ]
  },
  {
   "cell_type": "markdown",
   "metadata": {},
   "source": [
    "#### Potential Energy"
   ]
  },
  {
   "cell_type": "markdown",
   "metadata": {},
   "source": [
    "The first two terms of the gravitational potential expression:"
   ]
  },
  {
   "cell_type": "markdown",
   "metadata": {},
   "source": [
    "\\begin{align}\n",
    "V &= -\\frac{G M_{E}m}{||\\underline{r}||} + \\frac{J_2m}{2||\\underline{r}||^5}(3z^2 - ||\\underline{r}||^2)\n",
    "\\end{align}"
   ]
  },
  {
   "cell_type": "markdown",
   "metadata": {},
   "source": [
    "The first term is the point-mass gravitational term (dominant), the second is the J2 term associated with Earth's equatorial oblateness. This terms causes nodal precession of the Sprite orbits. Rewriting in terms of the state variables:"
   ]
  },
  {
   "cell_type": "markdown",
   "metadata": {},
   "source": [
    "\\begin{align}\n",
    "V &= -\\frac{G M_{E}m}{\\left(x^2 + y^2 + z^2\\right)^\\frac{1}{2}} + \\frac{J_2m}{2\\left(x^2+y^2+z^2\\right)^{\\frac{5}{2}}} \\left(3z^2 - \\left(x^2+y^2+z^2\\right)\\right)\n",
    "\\end{align}"
   ]
  },
  {
   "cell_type": "markdown",
   "metadata": {},
   "source": [
    "#### Assemble Lagrangian"
   ]
  },
  {
   "cell_type": "markdown",
   "metadata": {},
   "source": [
    "Putting the kinetic and potential energy together:"
   ]
  },
  {
   "cell_type": "markdown",
   "metadata": {},
   "source": [
    "\\begin{align}\n",
    "\\mathcal{L} &= T - V\\\\\n",
    "&= \\frac{1}{2}m\\left[\\dot{x}^2 + \\dot{y}^2 + \\dot{z}^2\\right]+\\frac{G M_{E}m}{\\left(x^2 + y^2 + z^2\\right)^\\frac{1}{2}} - \\frac{J_2m}{2\\left(x^2+y^2+z^2\\right)^{\\frac{5}{2}}} \\left(3z^2 - \\left(x^2+y^2+z^2\\right)\\right)\n",
    "\\end{align}"
   ]
  },
  {
   "cell_type": "markdown",
   "metadata": {},
   "source": [
    "#### Euler-Lagrange Equation"
   ]
  },
  {
   "cell_type": "markdown",
   "metadata": {},
   "source": [
    "In order to find the equation of motion for each state variable ($x$, $y$, $z$), we solve the Euler-Lagrange Equation:"
   ]
  },
  {
   "cell_type": "markdown",
   "metadata": {},
   "source": [
    "\\begin{align}\n",
    "\\frac{\\partial{\\mathcal{L}}}{\\partial{q_i}} - \\frac{d}{dt}\\frac{\\partial{\\mathcal{L}}}{\\partial{\\dot{q_i}}} &= Q_{i}\n",
    "\\end{align}"
   ]
  },
  {
   "cell_type": "markdown",
   "metadata": {},
   "source": [
    "Since, for now, we are assuming no external forces, $Q_i = 0$. $q_i$ is the $i^{th}$ state variable. Solving:"
   ]
  },
  {
   "cell_type": "markdown",
   "metadata": {},
   "source": [
    "\\begin{align}\n",
    "\\frac{d}{dt}\\frac{\\partial{\\mathcal{L}}}{\\partial{\\dot{x}}} &= m\\ddot{x}\\\\\n",
    "\\frac{\\partial{\\mathcal{L}}}{\\partial{x}} &= -\\frac{G m M_e x}{\\left(x^2+y^2+z^2\\right)^{3/2}}+\\frac{5 J_2 m x \\left(-x^2-y^2+2 z^2\\right)}{2 \\left(x^2+y^2+z^2\\right)^{7/2}}+\\frac{J_2 m x}{\\left(x^2+y^2+z^2\\right)^{5/2}}\n",
    "\\end{align}"
   ]
  },
  {
   "cell_type": "markdown",
   "metadata": {},
   "source": [
    "Thus, the equation of motion for the $x$ state variable is given by:"
   ]
  },
  {
   "cell_type": "markdown",
   "metadata": {},
   "source": [
    "\\begin{align}\n",
    "0 &= -\\frac{G m M_e x}{\\left(x^2+y^2+z^2\\right)^{3/2}}+\\frac{5 J_2 m x \\left(-x^2-y^2+2 z^2\\right)}{2 \\left(x^2+y^2+z^2\\right)^{7/2}}+\\frac{J_2 m x}{\\left(x^2+y^2+z^2\\right)^{5/2}} - m\\ddot{x}\\\\\n",
    "\\ddot{x} &=  -\\frac{G M_e x}{\\left(x^2+y^2+z^2\\right)^{3/2}} + \\frac{5 J_2 x \\left(-x^2-y^2+2 z^2\\right)}{2 \\left(x^2+y^2+z^2\\right)^{7/2}} + \\frac{J_2 x}{\\left(x^2+y^2+z^2\\right)^{5/2}}\n",
    "\\end{align}"
   ]
  },
  {
   "cell_type": "markdown",
   "metadata": {},
   "source": [
    "Similarly for $y$:"
   ]
  },
  {
   "cell_type": "markdown",
   "metadata": {},
   "source": [
    "\\begin{align}\n",
    "\\frac{d}{dt}\\frac{\\partial{\\mathcal{L}}}{\\partial{\\dot{y}}} &= m\\ddot{y}\\\\\n",
    "\\frac{\\partial{\\mathcal{L}}}{\\partial{y}} &= -\\frac{G m M_e y}{\\left(x^2+y^2+z^2\\right)^{3/2}}+\\frac{5 J_2 m y \\left(-x^2-y^2+2 z^2\\right)}{2 \\left(x^2+y^2+z^2\\right)^{7/2}}+\\frac{J_2 m y}{\\left(x^2+y^2+z^2\\right)^{5/2}}\n",
    "\\end{align}"
   ]
  },
  {
   "cell_type": "markdown",
   "metadata": {},
   "source": [
    "Thus, the equation of motion for $y$:"
   ]
  },
  {
   "cell_type": "markdown",
   "metadata": {},
   "source": [
    "\\begin{align}\n",
    "0 &= -\\frac{G m M_e y}{\\left(x^2+y^2+z^2\\right)^{3/2}}+\\frac{5 J_2 m y \\left(-x^2-y^2+2 z^2\\right)}{2 \\left(x^2+y^2+z^2\\right)^{7/2}}+\\frac{J_2 m y}{\\left(x^2+y^2+z^2\\right)^{5/2}} - m\\ddot{y}\\\\\n",
    "\\ddot{y} &= -\\frac{G M_e y}{\\left(x^2+y^2+z^2\\right)^{3/2}}+\\frac{5 J_2 y \\left(-x^2-y^2+2 z^2\\right)}{2 \\left(x^2+y^2+z^2\\right)^{7/2}}+\\frac{J_2 y}{\\left(x^2+y^2+z^2\\right)^{5/2}}\n",
    "\\end{align}"
   ]
  },
  {
   "cell_type": "markdown",
   "metadata": {},
   "source": [
    "And finally for $z$:"
   ]
  },
  {
   "cell_type": "markdown",
   "metadata": {},
   "source": [
    "\\begin{align}\n",
    "\\frac{d}{dt}\\frac{\\partial{\\mathcal{L}}}{\\partial{\\dot{z}}} &= m\\ddot{z}\\\\\n",
    "\\frac{\\partial{\\mathcal{L}}}{\\partial{z}} &= -\\frac{G m M_e z}{\\left(x^2+y^2+z^2\\right)^{3/2}}+\\frac{5 J_2 m z \\left(-x^2-y^2+2 z^2\\right)}{2 \\left(x^2+y^2+z^2\\right)^{7/2}}-\\frac{2 J_2 m z}{\\left(x^2+y^2+z^2\\right)^{5/2}}\n",
    "\\end{align}"
   ]
  },
  {
   "cell_type": "markdown",
   "metadata": {},
   "source": [
    "Giving the equation of motion:"
   ]
  },
  {
   "cell_type": "markdown",
   "metadata": {},
   "source": [
    "\\begin{align}\n",
    "0 &= -\\frac{G m M_e z}{\\left(x^2+y^2+z^2\\right)^{3/2}}+\\frac{5 J_2 m z \\left(-x^2-y^2+2 z^2\\right)}{2 \\left(x^2+y^2+z^2\\right)^{7/2}}-\\frac{2 J_2 m z}{\\left(x^2+y^2+z^2\\right)^{5/2}} - m\\ddot{z}\\\\\n",
    "\\ddot{z} &= -\\frac{G  M_e z}{\\left(x^2+y^2+z^2\\right)^{3/2}}+\\frac{5 J_2  z \\left(-x^2-y^2+2 z^2\\right)}{2 \\left(x^2+y^2+z^2\\right)^{7/2}}-\\frac{2 J_2  z}{\\left(x^2+y^2+z^2\\right)^{5/2}}\n",
    "\\end{align}"
   ]
  },
  {
   "cell_type": "markdown",
   "metadata": {},
   "source": [
    "#### State-Space Representation"
   ]
  },
  {
   "cell_type": "markdown",
   "metadata": {},
   "source": [
    "Represent the differential equations of motion in state space:"
   ]
  },
  {
   "cell_type": "markdown",
   "metadata": {},
   "source": [
    "\\begin{align}\n",
    "q_1 = x && \\dot{q}_{1}=\\dot{x}&=q_4\\\\\n",
    "q_2 = y && \\dot{q}_2 = \\dot{y}&=q_5\\\\\n",
    "q_3 = z && \\dot{q}_3 = \\dot{z}&=q_6\\\\\n",
    "q_4 = \\dot{x} && \\dot{q}_{4} = \\ddot{x} &= -\\frac{\\mu_E q_1}{\\left(q_1^2+q_2^2+q_3^2\\right)^{3/2}} + \\frac{5 J_2 q_1 \\left(-q_1^2-q_2^2+2 q_3^2\\right)}{2 \\left(q_1^2+q_2^2+q_3^2\\right)^{7/2}} + \\frac{J_2 q_1}{\\left(q_1^2+q_2^2+q_3^2\\right)^{5/2}}\\\\\n",
    "q_5 = \\dot{y} && \\dot{q}_5 = \\ddot{y} &= -\\frac{\\mu_E q_2}{\\left(q_1^2+q_2^2+q_3^2\\right)^{3/2}}+\\frac{5 J_2 q_2 \\left(-q_1^2-q_2^2+2 q_3^2\\right)}{2 \\left(q_1^2+q_2^2+q_3^2\\right)^{7/2}}+\\frac{J_2 q_2}{\\left(q_1^2+q_2^2+q_3^2\\right)^{5/2}}\\\\\n",
    "q_6 = \\dot{z} && \\dot{q}_6 = \\ddot{z} &= -\\frac{\\mu_E q_3}{\\left(q_1^2+q_2^2+q_3^2\\right)^{3/2}}+\\frac{5 J_2  q_3 \\left(-q_1^2-q_2^2+2 q_3^2\\right)}{2 \\left(q_1^2+q_2^2+q_3^2\\right)^{7/2}}-\\frac{2 J_2  q_3}{\\left(q_1^2+q_2^2+q_3^2\\right)^{5/2}}\n",
    "\\end{align}"
   ]
  },
  {
   "cell_type": "markdown",
   "metadata": {},
   "source": [
    "### Implementation"
   ]
  },
  {
   "cell_type": "markdown",
   "metadata": {},
   "source": [
    "#### Gravitational Parameters"
   ]
  },
  {
   "cell_type": "markdown",
   "metadata": {},
   "source": [
    "Define the necessary paramters for the problem. These include the standard gravitational parameter of the Earth and the J2 constant."
   ]
  },
  {
   "cell_type": "code",
   "execution_count": 2,
   "metadata": {
    "collapsed": false
   },
   "outputs": [],
   "source": [
    "mu_e = 398600.4418   # Earth graviational parameter, (km^3)/(sec^2)\n",
    "J2   = 1.7555e10     # J2, (km^5)/(sec^2)\n",
    "R_e  = 6371.         # Radius of Earth, km"
   ]
  },
  {
   "cell_type": "markdown",
   "metadata": {},
   "source": [
    "#### Derivatives Function"
   ]
  },
  {
   "cell_type": "markdown",
   "metadata": {},
   "source": [
    "Write a function that takes the state, $\\begin{bmatrix}x & y & z & \\dot{x} & \\dot{y} & \\dot{z}\\end{bmatrix}$ and returns the time derivative of each state variable, $\\begin{bmatrix}\\dot{x} & \\dot{y} & \\dot{z} & \\ddot{x} & \\ddot{y} & \\ddot{z}\\end{bmatrix}$."
   ]
  },
  {
   "cell_type": "code",
   "execution_count": 3,
   "metadata": {
    "collapsed": true
   },
   "outputs": [],
   "source": [
    "def orbitalDerivatives(X, t):\n",
    "    x, y, z, xdot, ydot, zdot = X\n",
    "    \n",
    "    R = (x**2. + y**2. + z**2.)**(1./2.)\n",
    "    term0 = -mu_e/(R**3.)\n",
    "    term1 = (5.*J2*(-x**2. - y**2. + 2.*(z**2.)))/(2.*(R**7.))\n",
    "    term2 = J2/(R**5.)\n",
    "    \n",
    "    xddot = term0*x + term1*x + term2*x\n",
    "    yddot = term0*y + term1*y + term2*y\n",
    "    zddot = term0*z + term1*z - term2*z*2.\n",
    "    \n",
    "    return [xdot, ydot, zdot, xddot, yddot, zddot]"
   ]
  },
  {
   "cell_type": "markdown",
   "metadata": {},
   "source": [
    "#### Simulation Parameters"
   ]
  },
  {
   "cell_type": "markdown",
   "metadata": {},
   "source": [
    "Define some parameters relevant to the simulation. These include total runtime and stepsize, and initial conditions assuming ISS deployment."
   ]
  },
  {
   "cell_type": "code",
   "execution_count": 21,
   "metadata": {
    "collapsed": true
   },
   "outputs": [],
   "source": [
    "totaltime = numpy.arange(0, 100000, 1)\n",
    "initial_position = numpy.array([400., 0., 0.])\n",
    "initial_velocity = numpy.array([0., 4.76001, 6.01425])"
   ]
  },
  {
   "cell_type": "markdown",
   "metadata": {},
   "source": [
    "#### Run Simulation for Single Set of Initial Conditions"
   ]
  },
  {
   "cell_type": "markdown",
   "metadata": {},
   "source": [
    "The function below takes a set of initial conditions and propagates them for totaltime (above)."
   ]
  },
  {
   "cell_type": "markdown",
   "metadata": {},
   "source": [
    "#### Monte Carlo"
   ]
  },
  {
   "cell_type": "markdown",
   "metadata": {},
   "source": [
    "The function below randomizes the initial velocities of a number of Sprites to simulate deployment from a KickSat deployer. Each chip's orbit is propagated independently."
   ]
  },
  {
   "cell_type": "code",
   "execution_count": null,
   "metadata": {
    "collapsed": true
   },
   "outputs": [],
   "source": [
    "def runMonteCarlo(N):\n",
    "    pos_initial = initial_position\n",
    "    for i in range(N):\n",
    "        vel_initial = "
   ]
  },
  {
   "cell_type": "markdown",
   "metadata": {},
   "source": [
    "#### Visualize Simulation Results"
   ]
  },
  {
   "cell_type": "markdown",
   "metadata": {},
   "source": [
    "Takes a list of trajectories, plots them with the Earth."
   ]
  },
  {
   "cell_type": "code",
   "execution_count": 23,
   "metadata": {
    "collapsed": true
   },
   "outputs": [],
   "source": [
    "def showResults(results):\n",
    "    fig = plt.figure()\n",
    "    ax = plt.gca(projection='3d')\n",
    "    ax._axis3don = False\n",
    "    ax.set_aspect('equal')\n",
    "    \n",
    "    for run in results:\n",
    "        ax.plot(run[:,0], run[:,1], run[:,2])\n",
    "    \n",
    "    # Draw the Earth\n",
    "    u, v = numpy.mgrid[0:2*numpy.pi:20j, 0:numpy.pi:10j]\n",
    "    x=R_e*numpy.cos(u)*numpy.sin(v)\n",
    "    y=R_e*numpy.sin(u)*numpy.sin(v)\n",
    "    z=R_e*numpy.cos(v)\n",
    "    ax.plot_wireframe(x, y, z, color=\"r\", alpha=0.1)\n",
    "    \n",
    "    # Configure the plot\n",
    "#     ax.legend(bbox_to_anchor=(1.05, 1), loc=2, borderaxespad=0.)\n",
    "    ax.set_xticklabels([])\n",
    "    ax.set_yticklabels([])\n",
    "    ax.set_zticklabels([])\n",
    "    \n",
    "    # Show the plot\n",
    "    plt.show()"
   ]
  },
  {
   "cell_type": "code",
   "execution_count": 24,
   "metadata": {
    "collapsed": false
   },
   "outputs": [
    {
     "data": {
      "image/png": "[encoded data removed]",
      "text/plain": [
       "<matplotlib.figure.Figure at 0x11e740a10>"
      ]
     },
     "metadata": {},
     "output_type": "display_data"
    }
   ],
   "source": [
    "showResults([runSim(initial_position, initial_velocity)])"
   ]
  },
  {
   "cell_type": "code",
   "execution_count": null,
   "metadata": {
    "collapsed": true
   },
   "outputs": [],
   "source": []
  }
 ],
 "metadata": {
  "kernelspec": {
   "display_name": "Python 2",
   "language": "python",
   "name": "python2"
  },
  "language_info": {
   "codemirror_mode": {
    "name": "ipython",
    "version": 2
   },
   "file_extension": ".py",
   "mimetype": "text/x-python",
   "name": "python",
   "nbconvert_exporter": "python",
   "pygments_lexer": "ipython2",
   "version": "2.7.9"
  }
 },
 "nbformat": 4,
 "nbformat_minor": 0
}
