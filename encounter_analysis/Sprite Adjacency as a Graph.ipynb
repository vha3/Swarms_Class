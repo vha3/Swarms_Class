{
 "cells": [
  {
   "cell_type": "code",
   "execution_count": 3,
   "metadata": {
    "collapsed": true
   },
   "outputs": [],
   "source": [
    "import numpy as np"
   ]
  },
  {
   "cell_type": "code",
   "execution_count": 12,
   "metadata": {
    "collapsed": true
   },
   "outputs": [],
   "source": [
    "adj = np.load(open('10_adjacency', 'r'))\n",
    "num_sprites = adj[0].shape[0]"
   ]
  },
  {
   "cell_type": "code",
   "execution_count": 13,
   "metadata": {
    "collapsed": false
   },
   "outputs": [],
   "source": [
    "# Drop the first 30 minutes\n",
    "#adj_latter = adj[30:, :, :]\n",
    "adj_latter = adj[30:, :, :]"
   ]
  },
  {
   "cell_type": "code",
   "execution_count": 14,
   "metadata": {
    "collapsed": false
   },
   "outputs": [],
   "source": [
    "# Take the bitwise OR of the each of the timesteps to get the total connectivity for the lifetime of the Sprites\n",
    "total_adj = np.zeros(adj[0,:,:].shape, dtype=bool)\n",
    "for t in range(adj_latter.shape[0]):\n",
    "    total_adj = total_adj | adj_latter[t, :, :]"
   ]
  },
  {
   "cell_type": "code",
   "execution_count": 15,
   "metadata": {
    "collapsed": true
   },
   "outputs": [],
   "source": [
    "# Create a GDF representation of the graph\n",
    "with open('10_30.gdf', 'w') as ofile:\n",
    "    ofile.write('nodedef>name VARCHAR\\n')\n",
    "    for s0 in range(num_sprites):\n",
    "        ofile.write(str(s0)+'\\n')\n",
    "    ofile.write('edgedef>node1 VARCHAR,node2 VARCHAR')\n",
    "    for s0 in range(num_sprites):\n",
    "        for s1 in range(s0+1, num_sprites):\n",
    "            if total_adj[s0, s1]:\n",
    "                ofile.write(','.join([str(s0), str(s1)])+'\\n')"
   ]
  },
  {
   "cell_type": "code",
   "execution_count": null,
   "metadata": {
    "collapsed": true
   },
   "outputs": [],
   "source": []
  }
 ],
 "metadata": {
  "kernelspec": {
   "display_name": "Python 2",
   "language": "python",
   "name": "python2"
  },
  "language_info": {
   "codemirror_mode": {
    "name": "ipython",
    "version": 2
   },
   "file_extension": ".py",
   "mimetype": "text/x-python",
   "name": "python",
   "nbconvert_exporter": "python",
   "pygments_lexer": "ipython2",
   "version": "2.7.12"
  }
 },
 "nbformat": 4,
 "nbformat_minor": 1
}
