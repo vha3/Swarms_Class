{
 "cells": [
  {
   "cell_type": "markdown",
   "metadata": {},
   "source": [
    "# Back of the Envelope Sprite Orbital Control"
   ]
  },
  {
   "cell_type": "markdown",
   "metadata": {},
   "source": [
    "Some back-of-the-envelope calculations to see if formation flight is feasible."
   ]
  },
  {
   "cell_type": "code",
   "execution_count": 1,
   "metadata": {
    "collapsed": true
   },
   "outputs": [],
   "source": [
    "from IPython.display import Latex\n",
    "import matplotlib.pyplot as plt\n",
    "%matplotlib inline\n",
    "import numpy\n",
    "import numpy.linalg\n",
    "from scipy import integrate\n",
    "from mpl_toolkits.mplot3d import Axes3D\n",
    "import random\n",
    "from numpy.linalg import pinv\n",
    "from scipy import interpolate"
   ]
  },
  {
   "cell_type": "markdown",
   "metadata": {},
   "source": [
    "## System Under Consideration"
   ]
  },
  {
   "cell_type": "markdown",
   "metadata": {},
   "source": [
    "The system is two Sprites drifting apart at $\\sim$2 m/s. The question to answer is whether these chips could even effect their orbits enough to prevent themselves from drifting out of communication range. If they can't do that, then maintaining formation is not feasible."
   ]
  },
  {
   "cell_type": "markdown",
   "metadata": {},
   "source": [
    "#### How much force is required?"
   ]
  },
  {
   "cell_type": "markdown",
   "metadata": {},
   "source": [
    "Each chip has a mass of approximately 6 g, or $6\\times 10^{-3}$ kg. We'll assume that they are moving with constant velocity. In chip A's frame of reference, chip B is moving away at 4m/s. The momentum of chip B is then given by:"
   ]
  },
  {
   "cell_type": "markdown",
   "metadata": {},
   "source": [
    "\\begin{align}\n",
    "\\rho &= m\\underline{v}\\\\\n",
    "&= \\left(6\\times 10^{-3}\\right)4\\\\\n",
    "&= 2.4 \\times 10^{-2}\\frac{\\text{kg}\\cdot\\text{m}}{\\text{sec}}\n",
    "\\end{align}"
   ]
  },
  {
   "cell_type": "markdown",
   "metadata": {},
   "source": [
    "In order to prevent chip B from moving any farther away, chip A must change its momentum by this amount. That is to say:"
   ]
  },
  {
   "cell_type": "markdown",
   "metadata": {},
   "source": [
    "\\begin{align}\n",
    "\\Delta \\rho &= 2.4 \\times 10^{-2}\n",
    "\\end{align}"
   ]
  },
  {
   "cell_type": "markdown",
   "metadata": {},
   "source": [
    "Since force is defined by the time derivative of momentum, this change in momentum can be used to determine the amount of force required to prevent further separation of the chips. Let's say we want to stop the chips from separating in $\\sim$10 seconds. In that case, the necessary force is:"
   ]
  },
  {
   "cell_type": "markdown",
   "metadata": {},
   "source": [
    "\\begin{align}\n",
    "F &= \\frac{\\Delta p}{\\Delta t}\\\\\n",
    "&= \\frac{2.4 \\times 10^{-2}}{10}\\\\\n",
    "&= 2.4 \\times 10^{-3} N\n",
    "\\end{align}"
   ]
  },
  {
   "cell_type": "markdown",
   "metadata": {},
   "source": [
    "#### Applying the force"
   ]
  },
  {
   "cell_type": "markdown",
   "metadata": {},
   "source": [
    "This external force on chip A comes from atmospheric drag, given by the equation below:"
   ]
  },
  {
   "cell_type": "markdown",
   "metadata": {},
   "source": [
    "\\begin{align}\n",
    "\\underline{F}_d = \\frac{1}{2}C_dA \\rho \\underline{V}_s^T\\underline{V}_s\n",
    "\\end{align}"
   ]
  },
  {
   "cell_type": "markdown",
   "metadata": {},
   "source": [
    "The parameters of the above drag equation are notoriously difficult to get right. $A$ is the effective surface area (which depends on the spacecraft's attitude), $\\rho$ is the atmospheric density (which depends on position), $\\underline{V}_s$ is the spacecraft velocity relative to the atmosphere (which depends on velocity), and $C_d$ is the drag coefficient - a parameter that is often estimated on-orbit and is related to the properties of the surface material. Typically, $C_d$ ranges from 1.5-3. The direction of the drag force is typically approximately antiparallel to the relative velocity between the spacecraft and the atmosphere, though the large surface area and small mass of the Sprite may enable a more elastic collision assumption."
   ]
  },
  {
   "cell_type": "markdown",
   "metadata": {},
   "source": [
    "#### Making Estimates"
   ]
  },
  {
   "cell_type": "markdown",
   "metadata": {},
   "source": [
    "To avoid getting buried in details, I'm going to make some order-of-magnitude assumptions and move on."
   ]
  },
  {
   "cell_type": "markdown",
   "metadata": {},
   "source": [
    "\\begin{align}\n",
    "C_d &= 2.2\\text{ unitless}\\\\\n",
    "m &= 6\\times 10^{-3}\\text{ kg}\\\\\n",
    "A &= 1.225 \\times 10^{-3}\\text{ m}\\\\\n",
    "V_s &= 7670\\text{ m/s}\n",
    "\\end{align}"
   ]
  },
  {
   "cell_type": "code",
   "execution_count": 32,
   "metadata": {
    "collapsed": true
   },
   "outputs": [],
   "source": [
    "Cd = 2.2\n",
    "m = .006\n",
    "w = 3.5e-2\n",
    "A = w*w\n",
    "Vs = 7670."
   ]
  },
  {
   "cell_type": "markdown",
   "metadata": {},
   "source": [
    "$C_d$ is probably close to right. The mass is close to right. For the area, I'm just assuming that the entire surface area of the chip is getting exposed to atmosphere. The relative velocity assumes that the chip is moving about as quickly as the International Space Station. The atmospheric density will vary according to the data below, which I found on the Internet."
   ]
  },
  {
   "cell_type": "code",
   "execution_count": 33,
   "metadata": {
    "collapsed": true
   },
   "outputs": [],
   "source": [
    "densities = numpy.array([1.17, 9.49e-2, 4.07e-3, 3.31e-4, 1.68e-5, 5.08e-7,\n",
    "                         1.80e-8, 3.26e-9, 1.18e-9, 5.51e-10, 2.91e-10, 1.66e-10,\n",
    "                         9.91e-11, 6.16e-11, 3.94e-11, 2.58e-11, 1.72e-11, 1.16e-11,\n",
    "                         7.99e-12, 5.55e-12, 3.89e-12, 2.75e-12, 1.96e-12, 1.4e-12,\n",
    "                         1.01e-12, 7.3e-13])\n",
    "altitudes = numpy.arange(0, 520000, 20000)/1000.\n",
    "density = interpolate.interp1d(altitudes, densities, 'linear')"
   ]
  },
  {
   "cell_type": "code",
   "execution_count": 34,
   "metadata": {
    "collapsed": false
   },
   "outputs": [
    {
     "data": {
      "image/png": "[encoded data removed]",
      "text/plain": [
       "<matplotlib.figure.Figure at 0x110418990>"
      ]
     },
     "metadata": {},
     "output_type": "display_data"
    }
   ],
   "source": [
    "def visualizeDensity():\n",
    "    xnew = numpy.arange(0, 500000, .1)/1000.\n",
    "    ynew = density(xnew)\n",
    "    plt.plot(xnew, ynew)\n",
    "    plt.xlabel('altitude (km)');plt.ylabel('kg/m^3')\n",
    "    plt.title('Atmospheric Density with Altitude')\n",
    "    plt.yscale('log');plt.show()\n",
    "visualizeDensity()"
   ]
  },
  {
   "cell_type": "markdown",
   "metadata": {},
   "source": [
    "It's a bad interpolation, good enough for this though."
   ]
  },
  {
   "cell_type": "markdown",
   "metadata": {},
   "source": [
    "#### Force with Altitude"
   ]
  },
  {
   "cell_type": "markdown",
   "metadata": {},
   "source": [
    "This is sufficient to get a sense for the maximum drag force that can be expected with altitude. Note that not all of this force will be directed in the desired direction (some of it will just slow the chip down, but some fraction will move it laterally). The function below returns the magnitude of the force."
   ]
  },
  {
   "cell_type": "code",
   "execution_count": 35,
   "metadata": {
    "collapsed": true
   },
   "outputs": [],
   "source": [
    "def getDrag(altitude):\n",
    "    return .5*Cd*A*Vs*Vs*density(altitude)"
   ]
  },
  {
   "cell_type": "markdown",
   "metadata": {},
   "source": [
    "Find the magnitude of the drag force with altitude, assuming that the chip is moving at ISS velocity at all of these altitudes, and that its entire surface area is exposed to the incident atmosphere."
   ]
  },
  {
   "cell_type": "code",
   "execution_count": 38,
   "metadata": {
    "collapsed": false
   },
   "outputs": [
    {
     "data": {
      "image/png": "[encoded data removed]",
      "text/plain": [
       "<matplotlib.figure.Figure at 0x145f7e8d0>"
      ]
     },
     "metadata": {},
     "output_type": "display_data"
    }
   ],
   "source": [
    "tudes = numpy.arange(0, 500, 1)\n",
    "plt.plot(tudes, getDrag(tudes), label='Magnitude of drag force')\n",
    "plt.plot(tudes, numpy.ones(len(tudes))*2.4e-3, 'r--', label='Necessary force for 2 m/s change in 10 sec')\n",
    "plt.xlabel('altitude in km')\n",
    "plt.ylabel('Magnitude of drag force (N)')\n",
    "plt.title('Drag Force with Altitude')\n",
    "plt.yscale('log')\n",
    "plt.legend(loc='upper right')\n",
    "plt.show()"
   ]
  },
  {
   "cell_type": "markdown",
   "metadata": {},
   "source": [
    "## Delta V Availability"
   ]
  },
  {
   "cell_type": "markdown",
   "metadata": {},
   "source": [
    "## Conclusion"
   ]
  },
  {
   "cell_type": "markdown",
   "metadata": {},
   "source": [
    "The current chips cannot maintain formation on orbit by using drag. The magnitude of the drag force in the above plot is an overestimate in multiple ways. It assumes that the entire surface area of the chip is effective for drag, and it assumes a constant velocity at all altitudes. In reality, the velocity will be slower at lower altitudes and the attitude will lead to a reduced effective surface area."
   ]
  },
  {
   "cell_type": "code",
   "execution_count": null,
   "metadata": {
    "collapsed": true
   },
   "outputs": [],
   "source": []
  }
 ],
 "metadata": {
  "kernelspec": {
   "display_name": "Python 2",
   "language": "python",
   "name": "python2"
  },
  "language_info": {
   "codemirror_mode": {
    "name": "ipython",
    "version": 2
   },
   "file_extension": ".py",
   "mimetype": "text/x-python",
   "name": "python",
   "nbconvert_exporter": "python",
   "pygments_lexer": "ipython2",
   "version": "2.7.9"
  }
 },
 "nbformat": 4,
 "nbformat_minor": 0
}
